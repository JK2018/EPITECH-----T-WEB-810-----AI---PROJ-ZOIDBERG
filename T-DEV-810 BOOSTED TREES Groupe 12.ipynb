{
 "cells": [
  {
   "cell_type": "markdown",
   "metadata": {},
   "source": [
    "# T-DEV-810 - Boosted trees with XGBoost\n",
    "\n",
    "    Jonathan Khalifa\n",
    "    Valentin Noel\n",
    "    Fabrice Sumsa\n",
    "    Bastien Angles\n",
    "    Kevan Sadeghi\n",
    "\n",
    "**Current accuracy : 72%**"
   ]
  },
  {
   "cell_type": "code",
   "execution_count": 1,
   "metadata": {},
   "outputs": [],
   "source": [
    "# IMPORTS\n",
    "\n",
    "import glob\n",
    "import random\n",
    "import matplotlib.pyplot as plt\n",
    "import cv2\n",
    "import numpy as np\n",
    "import tensorflow as tf\n",
    "from tensorflow.keras.utils import to_categorical\n",
    "from IPython.display import clear_output\n",
    "import pandas as pd\n",
    "from sklearn import metrics\n",
    "import xgboost as xgb\n",
    "from sklearn.model_selection import cross_val_score\n",
    "from sklearn.metrics import classification_report,confusion_matrix\n",
    "import itertools\n",
    "import seaborn as sns"
   ]
  },
  {
   "cell_type": "markdown",
   "metadata": {},
   "source": [
    "### Global vars\n",
    "- Common batch size values : 16 - 32 - 64 - 128\n",
    "- Train size sample for the total amount of equally distributed images before data augmentation.\n",
    "- Max train sample size is 4023. max val to have equally distributed image categories.\n",
    "- Image size(width, height). according to this studdy https://pubs.rsna.org/doi/full/10.1148/ryai.2019190015 the optimal size is 256x256. But lacking enough calculation power, we will remain at 64x64 while still getting decent results."
   ]
  },
  {
   "cell_type": "code",
   "execution_count": 2,
   "metadata": {},
   "outputs": [],
   "source": [
    "TRAIN_SAMPLE_SIZE = 4023\n",
    "IMG_SIZE = 64\n",
    "\n",
    "PATH_TRAIN_VIR = \"../chest_Xray/train/PNEUMONIA/*virus*.*\"\n",
    "PATH_TRAIN_BACT = \"../chest_Xray/train/PNEUMONIA/*bacteria*.*\"\n",
    "PATH_TRAIN_NORM = \"../chest_Xray/train/NORMAL/*\"\n",
    "PATH_TEST_NORM = \"../chest_Xray/test/NORMAL/*\"\n",
    "PATH_TEST_VIR = \"../chest_Xray/test/PNEUMONIA/*virus*.*\"\n",
    "PATH_TEST_BACT = \"../chest_Xray/test/PNEUMONIA/*bacteria*.*\"\n",
    "\n",
    "PATH_EXAMPLE_IMAGE1 = \"../chest_Xray/val/PNEUMONIA/person1954_bacteria_4886.jpeg\"\n",
    "PATH_EXAMPLE_IMAGE2 = \"../chest_Xray/val/NORMAL/NORMAL2-IM-1442-0001.jpeg\"\n",
    "PATH_EXAMPLE_IMAGE3 = \"../chest_Xray/train/PNEUMONIA/person995_virus_1676.jpeg\""
   ]
  },
  {
   "cell_type": "markdown",
   "metadata": {},
   "source": [
    "### Load the Dataset\n",
    "- We plot the distribution of our image's labels to see the disparities.\n",
    "- The plot reveals that we will need to redistribute the datasets for better training."
   ]
  },
  {
   "cell_type": "code",
   "execution_count": 3,
   "metadata": {
    "scrolled": true
   },
   "outputs": [
    {
     "name": "stdout",
     "output_type": "stream",
     "text": [
      "We have  1345  viral pneumonia train files\n",
      "We have  1341  normal train files\n",
      "We have  2530  bacterial pneumonia train files\n",
      "We have  148  viral pneumonia test files\n",
      "We have  234  normal test files\n",
      "We have  242  bacterial pneumonia test files\n"
     ]
    },
    {
     "data": {
      "image/png": "[encoded data removed]",
      "text/plain": [
       "<Figure size 576x432 with 1 Axes>"
      ]
     },
     "metadata": {
      "needs_background": "light"
     },
     "output_type": "display_data"
    }
   ],
   "source": [
    "# Load the training files\n",
    "files_train_vir = glob.glob(PATH_TRAIN_VIR)\n",
    "files_train_bact = glob.glob(PATH_TRAIN_BACT)\n",
    "files_train_norm = glob.glob(PATH_TRAIN_NORM)\n",
    "files_test_norm = glob.glob(PATH_TEST_NORM)\n",
    "files_test_vir = glob.glob(PATH_TEST_VIR)\n",
    "files_test_bact = glob.glob(PATH_TEST_BACT)\n",
    "\n",
    "# Shuffle\n",
    "random.shuffle(files_train_vir)\n",
    "random.shuffle(files_train_bact)\n",
    "random.shuffle(files_train_norm)\n",
    "random.shuffle(files_test_vir)\n",
    "random.shuffle(files_test_bact)\n",
    "random.shuffle(files_test_norm)\n",
    "\n",
    "\n",
    "print('We have ', len(files_train_vir) ,' viral pneumonia train files')\n",
    "print('We have ', len(files_train_norm) ,' normal train files')\n",
    "print('We have ', len(files_train_bact) ,' bacterial pneumonia train files')\n",
    "print('We have ', len(files_test_vir) ,' viral pneumonia test files')\n",
    "print('We have ', len(files_test_norm) ,' normal test files')\n",
    "print('We have ', len(files_test_bact) ,' bacterial pneumonia test files')\n",
    "\n",
    "        \n",
    "# Distrib plot \n",
    "x = ('norm', 'vir', 'bact')\n",
    "y = [len(files_train_norm),len(files_train_vir),len(files_train_bact)]\n",
    "\n",
    "\n",
    "df2 = pd.DataFrame({'targets':x,\n",
    "                    'train img quantities':y})\n",
    "fig, ax = plt.subplots(figsize=(8,6))\n",
    "sns.barplot(x = 'targets',\n",
    "            y = 'train img quantities',\n",
    "            data = df2,\n",
    "            ax=ax,\n",
    "            palette = \"rocket\")\n",
    " \n",
    "plt.show()"
   ]
  },
  {
   "cell_type": "markdown",
   "metadata": {},
   "source": [
    "### We make a new training batch with equaly distributed image categories. \n",
    "- Similar quantities of each category will make better training.\n",
    "- TRAIN_SAMPLE_SIZE can at most be twice the val of the cat with the less images : min([len(files_train_sick),len(files_train_norm)])"
   ]
  },
  {
   "cell_type": "code",
   "execution_count": 4,
   "metadata": {},
   "outputs": [
    {
     "name": "stdout",
     "output_type": "stream",
     "text": [
      "Total images in sample equally distributed dataset :  4023\n"
     ]
    },
    {
     "data": {
      "image/png": "[encoded data removed]",
      "text/plain": [
       "<Figure size 576x432 with 1 Axes>"
      ]
     },
     "metadata": {
      "needs_background": "light"
     },
     "output_type": "display_data"
    }
   ],
   "source": [
    "# We will also make a smaller equally distributed dataset for testing purposes\n",
    "train_subsample_size = int(TRAIN_SAMPLE_SIZE/3)\n",
    "files_train_sample = files_train_norm[:train_subsample_size] + files_train_vir[:train_subsample_size] + files_train_bact[:train_subsample_size]\n",
    "random.shuffle(files_train_sample)\n",
    "\n",
    "\n",
    "t = min([len(files_test_bact),len(files_test_norm),len(files_test_vir)])\n",
    "files_test_final = files_test_norm[:t] + files_test_vir[:t] + files_test_bact[:t]\n",
    "random.shuffle(files_test_final)\n",
    "\n",
    "\n",
    "# distrib plot \n",
    "x = ('norm', 'vir', 'bact')\n",
    "y = [len(files_train_norm[:train_subsample_size]),\n",
    "     len(files_train_vir[:train_subsample_size]),\n",
    "     len(files_train_bact[:train_subsample_size])]\n",
    "\n",
    "print('Total images in sample equally distributed dataset : ', len(files_train_sample))\n",
    "\n",
    "df2 = pd.DataFrame({'targets':x,\n",
    "                    'train img quantities':y})\n",
    "fig, ax = plt.subplots(figsize=(8,6))\n",
    "sns.barplot(x = 'targets',\n",
    "            y = 'train img quantities',\n",
    "            data = df2,\n",
    "            ax=ax,\n",
    "            palette = \"rocket\")\n",
    "plt.show()"
   ]
  },
  {
   "cell_type": "markdown",
   "metadata": {},
   "source": [
    "### Time to fix our datasets\n",
    "#### For this data to be usefull, we will have to do the following :\n",
    "- create the labels \n",
    "- put all the images to the same size\n",
    "- put all the images to Gray Scale\n",
    "- enhance our contrasts with CLAHE (Contrast-Limited Adaptive Histogram Equalization)"
   ]
  },
  {
   "cell_type": "code",
   "execution_count": 5,
   "metadata": {
    "scrolled": true
   },
   "outputs": [
    {
     "name": "stdout",
     "output_type": "stream",
     "text": [
      "Features train sample shape :  (4023, 64, 64, 3)\n",
      "Targets train sample shape  :  (4023,)\n",
      "Features test shape         :  (444, 64, 64, 3)\n",
      "Targets test shape          :  (444,)\n",
      "Before normalization        : min=0, max=255\n",
      "After normalisation         : min=0.0, max=1.0\n"
     ]
    }
   ],
   "source": [
    "# label , resize and RGB\n",
    "def fixData(dataset):\n",
    "    clahe = cv2.createCLAHE(clipLimit=2.0, tileGridSize=(8,8)) \n",
    "    y_data = []\n",
    "    x_data = []\n",
    "    for file in dataset:\n",
    "        image = cv2.imread(file)\n",
    "        image = cv2.cvtColor(np.array(image), cv2.COLOR_BGR2GRAY) ### CLAHE\n",
    "        image = clahe.apply(image) ### CLAHE\n",
    "        image = cv2.cvtColor(image,cv2.COLOR_GRAY2RGB)\n",
    "        image = cv2.resize(image, (IMG_SIZE, IMG_SIZE))\n",
    "\n",
    "        data = np.array(image)\n",
    "        x_data.append(data)\n",
    "        \n",
    "        # LABELS\n",
    "        if(\"virus\" in file):\n",
    "            target = 1\n",
    "        elif(\"bacteria\" in file):\n",
    "            target = 2\n",
    "        else:\n",
    "            target = 0\n",
    "\n",
    "        y_data.append(target)    \n",
    "    x_data = np.asarray(x_data)    \n",
    "    y_data = np.asarray(y_data)\n",
    "    return (x_data,y_data)\n",
    "\n",
    "\n",
    "# Training images\n",
    "(x_train_sample, y_train_sample) = fixData(files_train_sample)\n",
    "\n",
    "# Testing images\n",
    "(x_test, y_test) = fixData(files_test_final)\n",
    "\n",
    "\n",
    "# stats to be printed\n",
    "print(\"Features train sample shape : \", x_train_sample.shape)\n",
    "print(\"Targets train sample shape  : \", y_train_sample.shape)\n",
    "print(\"Features test shape         : \", x_test.shape)\n",
    "print(\"Targets test shape          : \", y_test.shape)\n",
    "\n",
    "\n",
    "# Normalize data\n",
    "def normData(data):\n",
    "    xmax = data.max()\n",
    "    data = data / xmax\n",
    "    return data\n",
    "\n",
    "\n",
    "print('Before normalization        : min={}, max={}'.format(x_train_sample.min(), x_train_sample.max()))\n",
    "x_train_sample = normData(x_train_sample)\n",
    "x_test = normData(x_test)\n",
    "print('After normalisation         : min={}, max={}'.format(x_train_sample.min(), x_train_sample.max()))"
   ]
  },
  {
   "cell_type": "markdown",
   "metadata": {},
   "source": [
    "### Flaten data\n",
    "\n",
    "Flatten the images to have only a one-dimensional matrix for modeling an image.<br>\n",
    "Each value of the matrix represents an RGB value of each pixel of the image. \n",
    "<br>\n",
    "3 * 64 * 64 = **3 RGB values** per pixel * **64 pixels on width** * **64 pixels on height**"
   ]
  },
  {
   "cell_type": "code",
   "execution_count": 6,
   "metadata": {},
   "outputs": [],
   "source": [
    "RESHAPED = 3 * IMG_SIZE * IMG_SIZE\n",
    "x_train_sample = x_train_sample.reshape(-1, RESHAPED)\n",
    "x_test = x_test.reshape(-1, RESHAPED)\n",
    "\n",
    "x_train_sample = x_train_sample.astype('float32')\n",
    "x_test = x_test.astype('float32')"
   ]
  },
  {
   "cell_type": "markdown",
   "metadata": {},
   "source": [
    "## Define XGBoost model for classification\n",
    "\n",
    "### Parameters for this model :\n",
    "**learning_rate** = 0.01, boosting learning rate used to prevent overfiting<br>\n",
    "**max_depth** = 32, maximum tree depth<br>\n",
    "**n_estimators** = 30, numbers of trees adding more trees does not improve the performance of the model<br>\n",
    "**n_jobs** = 32, number of parallel threads used to run xgboost<br>\n",
    "**objective** = multi:softmax, because we want a multiclass classification<br>\n",
    "**use_label_encoder** = False, we not use One Hot Encoding in this case"
   ]
  },
  {
   "cell_type": "code",
   "execution_count": 7,
   "metadata": {},
   "outputs": [],
   "source": [
    "model = xgb.XGBClassifier(learning_rate=0.01, max_depth=24, n_estimators=30,\n",
    "                        n_jobs=32, objective='multi:softmax', use_label_encoder=False)"
   ]
  },
  {
   "cell_type": "markdown",
   "metadata": {},
   "source": [
    "### Train the model with the train dataset"
   ]
  },
  {
   "cell_type": "code",
   "execution_count": 8,
   "metadata": {
    "scrolled": false
   },
   "outputs": [
    {
     "name": "stdout",
     "output_type": "stream",
     "text": [
      "[13:14:41] WARNING: ../src/learner.cc:1061: Starting in XGBoost 1.3.0, the default evaluation metric used with the objective 'multi:softprob' was changed from 'merror' to 'mlogloss'. Explicitly set eval_metric if you'd like to restore the old behavior.\n"
     ]
    },
    {
     "data": {
      "text/plain": [
       "XGBClassifier(base_score=0.5, booster='gbtree', colsample_bylevel=1,\n",
       "              colsample_bynode=1, colsample_bytree=1, gamma=0, gpu_id=-1,\n",
       "              importance_type='gain', interaction_constraints='',\n",
       "              learning_rate=0.01, max_delta_step=0, max_depth=24,\n",
       "              min_child_weight=1, missing=nan, monotone_constraints='()',\n",
       "              n_estimators=30, n_jobs=32, num_parallel_tree=1,\n",
       "              objective='multi:softprob', random_state=0, reg_alpha=0,\n",
       "              reg_lambda=1, scale_pos_weight=None, subsample=1,\n",
       "              tree_method='exact', use_label_encoder=False,\n",
       "              validate_parameters=1, verbosity=None)"
      ]
     },
     "execution_count": 8,
     "metadata": {},
     "output_type": "execute_result"
    }
   ],
   "source": [
    "model.fit(x_train_sample, y_train_sample, verbose=True)"
   ]
  },
  {
   "cell_type": "code",
   "execution_count": 9,
   "metadata": {
    "scrolled": true
   },
   "outputs": [
    {
     "name": "stdout",
     "output_type": "stream",
     "text": [
      "              precision    recall  f1-score   support\n",
      "\n",
      "        Bact       0.73      0.80      0.76       148\n",
      "        Norm       0.84      0.61      0.71       148\n",
      "         Vir       0.62      0.74      0.68       148\n",
      "\n",
      "    accuracy                           0.72       444\n",
      "   macro avg       0.73      0.72      0.72       444\n",
      "weighted avg       0.73      0.72      0.72       444\n",
      "\n"
     ]
    },
    {
     "data": {
      "image/png": "[encoded data removed]",
      "text/plain": [
       "<Figure size 720x576 with 2 Axes>"
      ]
     },
     "metadata": {
      "needs_background": "light"
     },
     "output_type": "display_data"
    }
   ],
   "source": [
    "# To plot the confusions matrix\n",
    "def plot_confusion_matrix(y_true,y_pred,\n",
    "                          target_names,\n",
    "                          title='Confusion matrix',\n",
    "                          cmap=None,\n",
    "                          normalize=True,\n",
    "                          figsize=(10, 8),\n",
    "                          digit_format='{:0.2f}',\n",
    "                          save_as='auto'):\n",
    "    \"\"\"\n",
    "    cm:           confusion matrix from sklearn.metrics.confusion_matrix\n",
    "\n",
    "    target_names: given classification classes such as [0, 1, 2]\n",
    "                  the class names, for example: ['high', 'medium', 'low']\n",
    "\n",
    "    title:        the text to display at the top of the matrix\n",
    "\n",
    "    cmap:         the gradient of the values displayed from matplotlib.pyplot.cm\n",
    "                  see http://matplotlib.org/examples/color/colormaps_reference.html\n",
    "                  plt.get_cmap('jet') or plt.cm.Blues\n",
    "\n",
    "    normalize:    If False, plot the raw numbers\n",
    "                  If True, plot the proportions\n",
    "    \"\"\"\n",
    "    cm = confusion_matrix( y_true,y_pred, normalize=None, labels=target_names)\n",
    "    \n",
    "    accuracy = np.trace(cm) / float(np.sum(cm))\n",
    "    misclass = 1 - accuracy\n",
    "\n",
    "    if cmap is None:\n",
    "        cmap = plt.get_cmap('Blues')\n",
    "\n",
    "    plt.figure(figsize=figsize)\n",
    "    plt.imshow(cm, interpolation='nearest', cmap=cmap)\n",
    "    plt.title(title)\n",
    "    plt.colorbar()\n",
    "\n",
    "    if target_names is not None:\n",
    "        tick_marks = np.arange(len(target_names))\n",
    "        plt.xticks(tick_marks, target_names, rotation=90)\n",
    "        plt.yticks(tick_marks, target_names)\n",
    "\n",
    "    if normalize:\n",
    "        cm = cm.astype('float') / cm.sum(axis=1)[:, np.newaxis]\n",
    "\n",
    "\n",
    "    thresh = cm.max() / 1.5 if normalize else cm.max() / 2\n",
    "    for i, j in itertools.product(range(cm.shape[0]), range(cm.shape[1])):\n",
    "        if normalize:\n",
    "            plt.text(j, i, digit_format.format(cm[i, j]),\n",
    "                     horizontalalignment=\"center\",\n",
    "                     color=\"white\" if cm[i, j] > thresh else \"black\")\n",
    "        else:\n",
    "            plt.text(j, i, \"{:,}\".format(cm[i, j]),\n",
    "                     horizontalalignment=\"center\",\n",
    "                     color=\"white\" if cm[i, j] > thresh else \"black\")\n",
    "\n",
    "    plt.tight_layout()\n",
    "    plt.ylabel('True label')\n",
    "    plt.xlabel('Predicted label\\naccuracy={:0.4f}; misclass={:0.4f}'.format(accuracy, misclass))\n",
    "    plt.show()\n",
    "    \n",
    "    \n",
    "# Single axis Targets names for plotting\n",
    "def tgtNames(targets):\n",
    "    target_names = []\n",
    "    for target in targets:\n",
    "        if(target == 0):\n",
    "            target_names.append(\"Norm\")\n",
    "        elif(target == 1):\n",
    "            target_names.append(\"Vir\")\n",
    "        elif(target == 2):\n",
    "            target_names.append(\"Bact\")\n",
    "    return target_names\n",
    "\n",
    "\n",
    "# Test model and output metrics\n",
    "predictions = model.predict(x_test)\n",
    "\n",
    "y_test_names = tgtNames(y_test)\n",
    "y_pred_names = tgtNames(predictions)\n",
    "\n",
    "print(classification_report(y_test_names,y_pred_names))\n",
    "plot_confusion_matrix(y_test, predictions, range(3), normalize=True)"
   ]
  }
 ],
 "metadata": {
  "kernelspec": {
   "display_name": "Python 3",
   "language": "python",
   "name": "python3"
  },
  "language_info": {
   "codemirror_mode": {
    "name": "ipython",
    "version": 3
   },
   "file_extension": ".py",
   "mimetype": "text/x-python",
   "name": "python",
   "nbconvert_exporter": "python",
   "pygments_lexer": "ipython3",
   "version": "3.7.10"
  }
 },
 "nbformat": 4,
 "nbformat_minor": 4
}
